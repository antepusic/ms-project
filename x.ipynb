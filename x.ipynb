{
 "cells": [
  {
   "cell_type": "code",
   "execution_count": 25,
   "metadata": {
    "collapsed": true
   },
   "outputs": [
    {
     "name": "stdout",
     "output_type": "stream",
     "text": [
      "2\n"
     ]
    }
   ],
   "source": [
    "print(2)"
   ]
  },
  {
   "cell_type": "code",
   "execution_count": 26,
   "outputs": [],
   "source": [
    "#to access files and folders\n",
    "import os\n",
    "#data analysis and manipulation library\n",
    "import pandas as pd\n",
    "#math operations for multi-dimensional arrays and matrices\n",
    "import numpy as np\n",
    "#visualziation libraries\n",
    "# import matplotlib.pyplot as plt\n",
    "# import seaborn as sns"
   ],
   "metadata": {
    "collapsed": false
   }
  },
  {
   "cell_type": "code",
   "execution_count": 27,
   "outputs": [
    {
     "data": {
      "text/plain": "['2nxs5_sensors.csv',\n 'ibvx8_sensors.csv',\n '6frz4_sensors.csv',\n 'f3j25_sensors.csv',\n '7swyk_sensors.csv',\n 'iz3x1_sensors.csv',\n 'd',\n '1mpau_sensors.csv',\n 'c24ur_sensors.csv',\n 'b7mrd_sensors.csv',\n 'ef5rq_sensors.csv',\n 'dkhty_sensors.csv',\n 'rc1in_sensors.csv',\n 'yljm5_sensors.csv',\n '8a1ep_sensors.csv',\n 'iz2ps_sensors.csv',\n 'tn4vl_sensors.csv',\n 'e4gay_sensors.csv',\n 'f1gjp_sensors.csv',\n 'hpbxa_sensors.csv',\n '3caqi_sensors.csv',\n 'bd47a_sensors.csv',\n 'wjxci_sensors.csv',\n '5gpsc_sensors.csv']"
     },
     "execution_count": 27,
     "metadata": {},
     "output_type": "execute_result"
    }
   ],
   "source": [
    "DATA_DIR_PATH = 'CogLoad-1Hz/'\n",
    "os.listdir(DATA_DIR_PATH)"
   ],
   "metadata": {
    "collapsed": false
   }
  },
  {
   "cell_type": "code",
   "execution_count": 28,
   "outputs": [
    {
     "name": "stdout",
     "output_type": "stream",
     "text": [
      "\n",
      "========\n",
      "Reading data from: 2nxs5_sensors.csv\n",
      "(4237, 21)\n",
      "\n",
      "========\n",
      "Reading data from: ibvx8_sensors.csv\n",
      "(4212, 21)\n",
      "\n",
      "========\n",
      "Reading data from: 6frz4_sensors.csv\n",
      "(5433, 21)\n",
      "\n",
      "========\n",
      "Reading data from: f3j25_sensors.csv\n",
      "(4843, 21)\n",
      "\n",
      "========\n",
      "Reading data from: 7swyk_sensors.csv\n",
      "(4527, 21)\n",
      "\n",
      "========\n",
      "Reading data from: iz3x1_sensors.csv\n",
      "(3963, 21)\n",
      "sga 1507727628491 1507727658491\n",
      "sga 1507728113487 1507728143487\n",
      "\n",
      "========\n",
      "Reading data from: 1mpau_sensors.csv\n",
      "(3890, 21)\n",
      "sga 1505834996504 1505835026504\n",
      "\n",
      "========\n",
      "Reading data from: c24ur_sensors.csv\n",
      "(4339, 21)\n",
      "\n",
      "========\n",
      "Reading data from: b7mrd_sensors.csv\n",
      "(5600, 21)\n",
      "\n",
      "========\n",
      "Reading data from: ef5rq_sensors.csv\n",
      "(3931, 21)\n",
      "sga 1504017980498 1504018010498\n",
      "\n",
      "========\n",
      "Reading data from: dkhty_sensors.csv\n",
      "(3390, 21)\n",
      "\n",
      "========\n",
      "Reading data from: rc1in_sensors.csv\n",
      "(4244, 21)\n",
      "sga 1508230587506 1508230617506\n",
      "\n",
      "========\n",
      "Reading data from: yljm5_sensors.csv\n",
      "(4176, 21)\n",
      "sga 1508492134488 1508492164488\n",
      "\n",
      "========\n",
      "Reading data from: 8a1ep_sensors.csv\n",
      "(2534, 21)\n",
      "\n",
      "========\n",
      "Reading data from: iz2ps_sensors.csv\n",
      "(4679, 21)\n",
      "\n",
      "========\n",
      "Reading data from: tn4vl_sensors.csv\n",
      "(3041, 21)\n",
      "\n",
      "========\n",
      "Reading data from: e4gay_sensors.csv\n",
      "(4006, 21)\n",
      "sga 1503327965494 1503327995494\n",
      "\n",
      "========\n",
      "Reading data from: f1gjp_sensors.csv\n",
      "(4056, 21)\n",
      "\n",
      "========\n",
      "Reading data from: hpbxa_sensors.csv\n",
      "(2500, 21)\n",
      "\n",
      "========\n",
      "Reading data from: 3caqi_sensors.csv\n",
      "(5108, 21)\n",
      "\n",
      "========\n",
      "Reading data from: bd47a_sensors.csv\n",
      "(3339, 21)\n",
      "\n",
      "========\n",
      "Reading data from: wjxci_sensors.csv\n",
      "(4533, 21)\n",
      "\n",
      "========\n",
      "Reading data from: 5gpsc_sensors.csv\n",
      "(4340, 21)\n",
      "sga 1508235139497 1508235169497\n",
      "Labels (838, 21)\n",
      "Temperature (838, 30)\n",
      "Heartrate (838, 30)\n",
      "GSR (838, 30)\n",
      "RR (838, 30)\n"
     ]
    }
   ],
   "source": [
    "files = os.listdir(DATA_DIR_PATH)\n",
    "\n",
    "win_size = 30 #seconds\n",
    "\n",
    "#lists to save 30second segments for each sensor\n",
    "label_segments = []\n",
    "temp_segments = []\n",
    "hr_segments= []\n",
    "gsr_segments= []\n",
    "rr_segments= []\n",
    "for file in files:\n",
    "    if 'sensor' not in file:\n",
    "      continue\n",
    "    print()\n",
    "    print('========')\n",
    "    print('Reading data from:',file)\n",
    "    df = pd.read_csv(DATA_DIR_PATH+file)\n",
    "    print(df.shape)\n",
    "    df = df.replace([np.inf, -np.inf], np.nan)\n",
    "    df = df.dropna()\n",
    "    # print('Shape of data',df.shape)\n",
    "\n",
    "    #for each task get segments task_end - 30 seconds\n",
    "    tasks = ['n2', 'n2_rest', 'n3', 'n3_rest', 'HP', 'HPrest', 'FA','FArest', 'GC', 'GCrest', 'NC', 'NCrest', 'SX', 'SXrest', 'PT','PTrest']\n",
    "\n",
    "    for task in tasks:\n",
    "        for level in df[df.task==task].level.unique():\n",
    "            task_df = df[(df.task==task) & (df.level==level)]\n",
    "            #print('Segments for task',task,level,task_df.task.unique())\n",
    "            #print(task_df.head())\n",
    "            #print(task_df.tail())\n",
    "            #print(len(task_df))\n",
    "            if len(task_df)>0:\n",
    "                if 'rest' in task and 'n2' not in task and 'n3' not in task:\n",
    "                    timestamp_end_arr = []\n",
    "                    #print([i for i in task_df.timestamp.diff()])\n",
    "                    timestamp_end_arr.extend(task_df[task_df.timestamp.diff()>10000].timestamp.values)\n",
    "                    #print(task, timestamp_end_arr)\n",
    "                    timestamp_end_arr.append(task_df.timestamp.iloc[-1])\n",
    "                    #print(task,timestamp_end_arr)\n",
    "                    for segment_end in timestamp_end_arr:\n",
    "\n",
    "                        segment_sensor_data = task_df[task_df.timestamp<segment_end]\n",
    "                        segment_sensor_data = segment_sensor_data.iloc[-win_size:]\n",
    "\n",
    "                        #print('REST',segment_sensor_data.shape,segment_end)\n",
    "                        if segment_sensor_data.shape[0]==win_size:\n",
    "                            label_segments.append(segment_sensor_data.iloc[-1].values)\n",
    "                            temp_segments.append(segment_sensor_data.temperature.values[:win_size])\n",
    "                            hr_segments.append(segment_sensor_data.hr.values[:win_size])\n",
    "                            gsr_segments.append(segment_sensor_data.gsr.values[:win_size])\n",
    "                            rr_segments.append(segment_sensor_data.rr.values[:win_size])\n",
    "                else:\n",
    "                    segment_end = task_df.timestamp.iloc[-1]\n",
    "                    segment_start= segment_end - win_size*1000\n",
    "                    segment_sensor_data =task_df[(task_df.timestamp<=segment_end) & (task_df.timestamp>=segment_start)]\n",
    "                    if 25 < segment_sensor_data.shape[0] < win_size:\n",
    "                        print(\"sga\", segment_start, segment_end)\n",
    "                        #print('segment_sensor_data',segment_sensor_data.shape,'added 5 seconds')\n",
    "                        segment_sensor_data =df[(df.timestamp<=segment_end) & (df.timestamp>=segment_start)]\n",
    "                    if len(segment_sensor_data)>=win_size:\n",
    "                        label_segments.append(segment_sensor_data.iloc[-1].values)\n",
    "                        temp_segments.append(segment_sensor_data.temperature.values[:win_size])\n",
    "                        hr_segments.append(segment_sensor_data.hr.values[:win_size])\n",
    "                        gsr_segments.append(segment_sensor_data.gsr.values[:win_size])\n",
    "                        rr_segments.append(segment_sensor_data.rr.values[:win_size])\n",
    "\n",
    "    # break\n",
    "\n",
    "label_segments = np.stack(label_segments)\n",
    "temp_segments = np.stack(temp_segments)\n",
    "hr_segments = np.stack(hr_segments)\n",
    "gsr_segments = np.stack(gsr_segments)\n",
    "rr_segments = np.stack(rr_segments)\n",
    "\n",
    "\n",
    "print('Labels',label_segments.shape)\n",
    "print('Temperature',temp_segments.shape)\n",
    "print('Heartrate',hr_segments.shape)\n",
    "print('GSR',gsr_segments.shape)\n",
    "print('RR',rr_segments.shape)"
   ],
   "metadata": {
    "collapsed": false
   }
  },
  {
   "cell_type": "code",
   "execution_count": 29,
   "outputs": [
    {
     "name": "stdout",
     "output_type": "stream",
     "text": [
      "Number of segments for each type of sensor data\n",
      "Labels (838, 21)\n",
      "Temperature (838, 30)\n",
      "Heartrate (838, 30)\n",
      "GSR (838, 30)\n",
      "RR (838, 30)\n"
     ]
    }
   ],
   "source": [
    "#check the 30-second segments\n",
    "print(\"Number of segments for each type of sensor data\")\n",
    "print('Labels',label_segments.shape)\n",
    "print('Temperature',temp_segments.shape)\n",
    "print('Heartrate',hr_segments.shape)\n",
    "print('GSR',gsr_segments.shape)\n",
    "print('RR',rr_segments.shape)"
   ],
   "metadata": {
    "collapsed": false
   }
  },
  {
   "cell_type": "code",
   "execution_count": 30,
   "outputs": [],
   "source": [
    "column_names = segment_sensor_data.columns.values\n",
    "label_df = pd.DataFrame(label_segments,columns = column_names)\n",
    "\n",
    "temp_df= pd.DataFrame(temp_segments)\n",
    "hr_df= pd.DataFrame(hr_segments)\n",
    "gsr_df= pd.DataFrame(gsr_segments)\n",
    "rr_df= pd.DataFrame(rr_segments)"
   ],
   "metadata": {
    "collapsed": false
   }
  },
  {
   "cell_type": "code",
   "execution_count": 31,
   "outputs": [
    {
     "name": "stdout",
     "output_type": "stream",
     "text": [
      "Saving data to folder initial_data/\n",
      "Done\n"
     ]
    }
   ],
   "source": [
    "DATA_DIR_PATH = 'initial_data/'\n",
    "\n",
    "print('Saving data to folder', DATA_DIR_PATH)\n",
    "label_df.to_csv(DATA_DIR_PATH+'segments_labels.csv')\n",
    "temp_df.to_csv(DATA_DIR_PATH+'segments_temperature.csv')\n",
    "hr_df.to_csv(DATA_DIR_PATH+'segments_heartrate.csv')\n",
    "gsr_df.to_csv(DATA_DIR_PATH+'segments_gsr.csv')\n",
    "rr_df.to_csv(DATA_DIR_PATH+'segments_rr.csv')\n",
    "print('Done')"
   ],
   "metadata": {
    "collapsed": false
   }
  },
  {
   "cell_type": "code",
   "execution_count": 31,
   "outputs": [],
   "source": [],
   "metadata": {
    "collapsed": false
   }
  }
 ],
 "metadata": {
  "kernelspec": {
   "display_name": "Python 3",
   "language": "python",
   "name": "python3"
  },
  "language_info": {
   "codemirror_mode": {
    "name": "ipython",
    "version": 2
   },
   "file_extension": ".py",
   "mimetype": "text/x-python",
   "name": "python",
   "nbconvert_exporter": "python",
   "pygments_lexer": "ipython2",
   "version": "2.7.6"
  }
 },
 "nbformat": 4,
 "nbformat_minor": 0
}
